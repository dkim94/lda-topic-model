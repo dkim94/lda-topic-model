{
 "cells": [
  {
   "cell_type": "code",
   "execution_count": 1,
   "metadata": {},
   "outputs": [
    {
     "data": {
      "text/plain": [
       "'\\nmain file for LDA model\\n'"
      ]
     },
     "execution_count": 1,
     "metadata": {},
     "output_type": "execute_result"
    }
   ],
   "source": [
    "'''\n",
    "main file for LDA model\n",
    "'''"
   ]
  },
  {
   "cell_type": "code",
   "execution_count": 1,
   "metadata": {},
   "outputs": [],
   "source": [
    "from topic_model import LDAModel\n",
    "\n",
    "# import warnings\n",
    "# warnings.filterwarnings(\"ignore\",category=DeprecationWarning)"
   ]
  },
  {
   "cell_type": "code",
   "execution_count": 2,
   "metadata": {},
   "outputs": [],
   "source": [
    "## process data\n",
    "# TODO: better dataset\n",
    "\n",
    "documents = [[\"Hadoop\", \"Big Data\", \"HBase\", \"Java\", \"Spark\", \"Storm\", \"Cassandra\"],\n",
    "    [\"NoSQL\", \"MongoDB\", \"Cassandra\", \"HBase\", \"Postgres\"],\n",
    "    [\"Python\", \"scikit-learn\", \"scipy\", \"numpy\", \"statsmodels\", \"pandas\"],\n",
    "    [\"R\", \"Python\", \"statistics\", \"regression\", \"probability\"],\n",
    "    [\"machine learning\", \"regression\", \"decision trees\", \"libsvm\"],\n",
    "    [\"Python\", \"R\", \"Java\", \"C++\", \"Haskell\", \"programming languages\"],\n",
    "    [\"statistics\", \"probability\", \"mathematics\", \"theory\"],\n",
    "    [\"machine learning\", \"scikit-learn\", \"Mahout\", \"neural networks\"],\n",
    "    [\"neural networks\", \"deep learning\", \"Big Data\", \"artificial intelligence\"],\n",
    "    [\"Hadoop\", \"Java\", \"MapReduce\", \"Big Data\"],\n",
    "    [\"statistics\", \"R\", \"statsmodels\"],\n",
    "    [\"C++\", \"deep learning\", \"artificial intelligence\", \"probability\"],\n",
    "    [\"pandas\", \"R\", \"Python\"],\n",
    "    [\"databases\", \"HBase\", \"Postgres\", \"MySQL\", \"MongoDB\"],\n",
    "    [\"libsvm\", \"regression\", \"support vector machines\"]]\n"
   ]
  },
  {
   "cell_type": "code",
   "execution_count": 3,
   "metadata": {},
   "outputs": [
    {
     "name": "stdout",
     "output_type": "stream",
     "text": [
      "Elapsed Time for model 7 1000 0.1 0.1: 0:00:03.036716\n"
     ]
    }
   ],
   "source": [
    "## run new LDA model or load existing model\n",
    "num_topics, passes, alpha, eta = (7, 1000, 0.1, 0.1)\n",
    "\n",
    "lda_model = LDAModel(documents)\n",
    "lda_model.run(num_topics, passes, alpha, eta)\n",
    "\n",
    "# lda_model.load_model(num_topics, passes, 0.1, 0.1)"
   ]
  },
  {
   "cell_type": "code",
   "execution_count": 5,
   "metadata": {},
   "outputs": [],
   "source": [
    "# compute model scores\n",
    "# print(\"model perplexity: %f\" % lda_model.compute_perplexity())\n",
    "# print(\"model coherence score: %f\" % lda_model.compute_coherence_score())"
   ]
  },
  {
   "cell_type": "code",
   "execution_count": 5,
   "metadata": {},
   "outputs": [
    {
     "name": "stdout",
     "output_type": "stream",
     "text": [
      "Elapsed Time for model 25 1000 0.05 0.1: 0:50:18.275255\n",
      "Elapsed Time for model 30 1000 0.05 0.1: 0:53:02.364424\n",
      "Elapsed Time for model 33 1000 0.05 0.1: 0:54:35.669589\n",
      "Elapsed Time for model 35 1000 0.05 0.1: 0:55:05.625801\n",
      "Elapsed Time for model 50 1000 0.05 0.1: 1:01:32.304737\n"
     ]
    }
   ],
   "source": [
    "# num_topics_list = [25,30,33,35,50]\n",
    "# for num in num_topics_list:\n",
    "#     num_topics, passes, alpha, eta = (num, 1000, 0.05, 0.1)\n",
    "\n",
    "#     lda_model = LDAModel(documents, document_names)\n",
    "#     lda_model.run(num_topics, passes, alpha, eta)"
   ]
  },
  {
   "cell_type": "code",
   "execution_count": null,
   "metadata": {},
   "outputs": [],
   "source": []
  },
  {
   "cell_type": "code",
   "execution_count": null,
   "metadata": {},
   "outputs": [],
   "source": []
  },
  {
   "cell_type": "code",
   "execution_count": 4,
   "metadata": {},
   "outputs": [
    {
     "data": {
      "text/plain": [
       "[(0, 0.012988641),\n",
       " (1, 0.9220737),\n",
       " (2, 0.012988707),\n",
       " (3, 0.012987035),\n",
       " (4, 0.012987295),\n",
       " (5, 0.012987567),\n",
       " (6, 0.012987035)]"
      ]
     },
     "execution_count": 4,
     "metadata": {},
     "output_type": "execute_result"
    }
   ],
   "source": [
    "## analyze model\n",
    "# possible to load model of choice\n",
    "# lda_model.load_model()\n",
    "# Q. save the model, or save the analysis results?\n",
    "lda_model.get_topic_information_of_document(0)\n"
   ]
  },
  {
   "cell_type": "code",
   "execution_count": 5,
   "metadata": {},
   "outputs": [
    {
     "data": {
      "text/plain": [
       "'0.104*\"Java\" + 0.104*\"Big Data\" + 0.104*\"Hadoop\" + 0.104*\"Cassandra\" + 0.104*\"Spark\" + 0.104*\"Storm\" + 0.104*\"HBase\" + 0.009*\"programming languages\" + 0.009*\"theory\" + 0.009*\"MapReduce\"'"
      ]
     },
     "execution_count": 5,
     "metadata": {},
     "output_type": "execute_result"
    }
   ],
   "source": [
    "lda_model.get_word_information_of_topic(1)"
   ]
  },
  {
   "cell_type": "code",
   "execution_count": 9,
   "metadata": {},
   "outputs": [
    {
     "name": "stdout",
     "output_type": "stream",
     "text": [
      "[0.009, 0.306, 0.009, 0.009, 0.009, 0.009, 0.097, 0.097, 0.009, 0.009, 0.009, 0.009, 0.009, 0.243, 0.009, 0.009, 0.009, 0.009, 0.009, 0.009, 0.009, 0.009, 0.009, 0.009, 0.009, 0.009, 0.009, 0.009, 0.009, 0.009, 0.009, 0.009, 0.009]\n"
     ]
    }
   ],
   "source": [
    "# # # query model with new document\n",
    "# # # input: new document\n",
    "# # # output: list of tuple(topic_id, probability) \n",
    "# new_document_example\n",
    "# new_document_inference = lda_model.inference(new_document_example)\n",
    "# print(new_document_inference)\n"
   ]
  }
 ],
 "metadata": {
  "kernelspec": {
   "display_name": "Python 3",
   "language": "python",
   "name": "python3"
  },
  "language_info": {
   "codemirror_mode": {
    "name": "ipython",
    "version": 3
   },
   "file_extension": ".py",
   "mimetype": "text/x-python",
   "name": "python",
   "nbconvert_exporter": "python",
   "pygments_lexer": "ipython3",
   "version": "3.7.3"
  }
 },
 "nbformat": 4,
 "nbformat_minor": 5
}
